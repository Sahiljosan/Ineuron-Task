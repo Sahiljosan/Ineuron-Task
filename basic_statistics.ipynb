{
 "cells": [
  {
   "cell_type": "markdown",
   "metadata": {},
   "source": [
    "## Basic of statistics "
   ]
  },
  {
   "cell_type": "code",
   "execution_count": 1,
   "metadata": {},
   "outputs": [],
   "source": [
    "import numpy as np\n",
    "import pandas as pd"
   ]
  },
  {
   "cell_type": "markdown",
   "metadata": {},
   "source": [
    "### Mean"
   ]
  },
  {
   "cell_type": "code",
   "execution_count": 4,
   "metadata": {},
   "outputs": [
    {
     "name": "stdout",
     "output_type": "stream",
     "text": [
      "mean: 48.09090909090909\n"
     ]
    }
   ],
   "source": [
    "data = [12,52,68,78,47,96,22,36,65,44,9]\n",
    "print(\"mean:\",np.mean(data))\n",
    "#mean is the averange of all the data"
   ]
  },
  {
   "cell_type": "markdown",
   "metadata": {},
   "source": [
    "### Median"
   ]
  },
  {
   "cell_type": "code",
   "execution_count": 5,
   "metadata": {},
   "outputs": [
    {
     "name": "stdout",
     "output_type": "stream",
     "text": [
      "Median: 47.0\n"
     ]
    }
   ],
   "source": [
    "print(\"Median:\",np.median(data))\n",
    "#Median is the middle most observation\n",
    "# For EVEN: it is the average of the two middle most data\n",
    "# For ADD : It is the middly value"
   ]
  },
  {
   "cell_type": "markdown",
   "metadata": {},
   "source": [
    "### Mode"
   ]
  },
  {
   "cell_type": "code",
   "execution_count": 8,
   "metadata": {},
   "outputs": [
    {
     "name": "stdout",
     "output_type": "stream",
     "text": [
      "Mode: 0    65\n",
      "dtype: int64\n"
     ]
    }
   ],
   "source": [
    "data = [12,52,65,85,65,78,12,69,65,36,88]\n",
    "data = pd.Series(data)\n",
    "print(\"Mode:\" ,data.mode())\n",
    "## Mode represents the data with highest frequency\n",
    "## 65 comes trice in this data\n",
    "## 0 Represents the index"
   ]
  },
  {
   "cell_type": "markdown",
   "metadata": {},
   "source": [
    "### Quantiles"
   ]
  },
  {
   "cell_type": "code",
   "execution_count": 9,
   "metadata": {},
   "outputs": [
    {
     "name": "stdout",
     "output_type": "stream",
     "text": [
      "Q1 44.0\n",
      "Q2 65.0\n",
      "Q3 73.5\n"
     ]
    }
   ],
   "source": [
    "# First Quantile\n",
    "print(\"Q1\",data.quantile(0.25))\n",
    "\n",
    "# Second Quantile\n",
    "print(\"Q2\",data.quantile(0.50))\n",
    "\n",
    "# Third Quantile\n",
    "print(\"Q3\",data.quantile(0.75))"
   ]
  },
  {
   "cell_type": "markdown",
   "metadata": {},
   "source": [
    "### Deciles"
   ]
  },
  {
   "cell_type": "code",
   "execution_count": 10,
   "metadata": {},
   "outputs": [
    {
     "name": "stdout",
     "output_type": "stream",
     "text": [
      "D1 12.0\n",
      "D4 65.0\n",
      "D9 85.0\n"
     ]
    }
   ],
   "source": [
    "# First Deciles\n",
    "print(\"D1\",data.quantile(0.10))\n",
    "\n",
    "# Fourth Deciles\n",
    "print(\"D4\",data.quantile(0.40))\n",
    "\n",
    "# Nineth Deciles\n",
    "print(\"D9\",data.quantile(0.90))"
   ]
  },
  {
   "cell_type": "markdown",
   "metadata": {},
   "source": [
    "### Percentile"
   ]
  },
  {
   "cell_type": "code",
   "execution_count": 17,
   "metadata": {},
   "outputs": [
    {
     "name": "stdout",
     "output_type": "stream",
     "text": [
      "data: [12, 52, 65, 85, 65, 78, 12, 69, 65, 36, 88]\n",
      "P30: 52.0\n",
      "P43: 65.0\n",
      "P99: 87.7\n"
     ]
    }
   ],
   "source": [
    "print(\"data:\",list(data))\n",
    "# Calculates the 30% of the data\n",
    "print(\"P30:\",data.quantile(0.30))\n",
    "\n",
    "# Calculates the 43% of the data\n",
    "print(\"P43:\",data.quantile(0.43))\n",
    "\n",
    "# Calculates the 99% of the data\n",
    "print(\"P99:\",data.quantile(0.99))"
   ]
  },
  {
   "cell_type": "markdown",
   "metadata": {},
   "source": [
    "## Measure of Dispersion"
   ]
  },
  {
   "cell_type": "markdown",
   "metadata": {},
   "source": [
    "### 1. Range"
   ]
  },
  {
   "cell_type": "code",
   "execution_count": 18,
   "metadata": {},
   "outputs": [
    {
     "name": "stdout",
     "output_type": "stream",
     "text": [
      "RANGE: 853\n"
     ]
    }
   ],
   "source": [
    "# Range is the difference between the maximum and the minimum\n",
    "# where maximum is the largest value\n",
    "# minimum is the smallest value in the dataset\n",
    "\n",
    "data_a = np.array([456,231,698,22,367,154,365,444,875])\n",
    "\n",
    "# but it does not provide the proper variation of the data\n",
    "print(\"RANGE:\",data_a.max()-data_a.min())"
   ]
  },
  {
   "cell_type": "markdown",
   "metadata": {},
   "source": [
    "### 2. Variance"
   ]
  },
  {
   "cell_type": "code",
   "execution_count": 21,
   "metadata": {},
   "outputs": [
    {
     "name": "stdout",
     "output_type": "stream",
     "text": [
      "Data: [12, 52, 65, 85, 65, 78, 12, 69, 65, 36, 88]\n",
      "Variance 639.8181818181819\n"
     ]
    }
   ],
   "source": [
    "# Variance measures the spread of the data\n",
    "# It is the arithmetic mean of the squares of the deviations which iss calculated from the mean\n",
    "print(\"Data:\",list(data))\n",
    "print(\"Variance\",np.var(data))\n",
    "# Higher the variance, the more the data is spead out "
   ]
  },
  {
   "cell_type": "markdown",
   "metadata": {},
   "source": [
    "### 3. Standard Deviation"
   ]
  },
  {
   "cell_type": "code",
   "execution_count": 23,
   "metadata": {},
   "outputs": [
    {
     "name": "stdout",
     "output_type": "stream",
     "text": [
      "Data: [12, 52, 65, 85, 65, 78, 12, 69, 65, 36, 88]\n",
      "Standard Deviation 25.294627528749693\n"
     ]
    }
   ],
   "source": [
    "# Standard deviation tells how much the data is dispersed from the mean\n",
    "print(\"Data:\",list(data))\n",
    "print(\"Standard Deviation\",np.std(data))"
   ]
  },
  {
   "cell_type": "markdown",
   "metadata": {},
   "source": [
    "### 4. Coefficient of variation"
   ]
  },
  {
   "cell_type": "code",
   "execution_count": 26,
   "metadata": {},
   "outputs": [
    {
     "name": "stdout",
     "output_type": "stream",
     "text": [
      "The coefficient of variation of office A : 2.9940119760479043\n",
      "The coefficient of variation of office b : 1.3333333333333335\n",
      "Hence, the coefficient of variation for location B is lower then A, so there is more consistency in salary at location B then A\n"
     ]
    }
   ],
   "source": [
    "# It is the relative measure of standard deviation\n",
    "\n",
    "# Let us understand by an example\n",
    "# A company has offices in two cities. so now, consider the salary of employee in both the offices.\n",
    "\n",
    "# Consider the expected salary of the employee in office A\n",
    "expected_sal_a = 668\n",
    "# the standard deviation in salary of office A\n",
    "std_sal_a = 20\n",
    "\n",
    "# The coefficient of variation is calculated as :\n",
    "coe_vari1 = (std_sal_a/expected_sal_a)*100\n",
    "\n",
    "# Now Consider the expected salary of the employee in office B\n",
    "expected_sal_b = 750\n",
    "# the standard deviation in salary of office B\n",
    "std_sal_b = 10\n",
    "\n",
    "# The coefficient of variation is calculated as :\n",
    "coe_vari2 = (std_sal_b/expected_sal_b)*100\n",
    "\n",
    "print(f\"The coefficient of variation of office A : {coe_vari1}\\nThe coefficient of variation of office b : {coe_vari2}\")\n",
    "\n",
    "print(\"Hence, the coefficient of variation for location B is lower then A, so there is more consistency in salary at location B then A\")"
   ]
  },
  {
   "cell_type": "markdown",
   "metadata": {},
   "source": [
    "### 5. Interquartile Range"
   ]
  },
  {
   "cell_type": "code",
   "execution_count": 28,
   "metadata": {},
   "outputs": [
    {
     "name": "stdout",
     "output_type": "stream",
     "text": [
      "data: [12, 52, 65, 85, 65, 78, 12, 69, 65, 36, 88]\n",
      "q1: 44.0\n",
      "q3: 73.5\n",
      "IQR: 29.5\n"
     ]
    }
   ],
   "source": [
    "print(\"data:\",list(data))\n",
    "# First quartile of the dataset\n",
    "q1 = data.quantile(0.25)\n",
    "print(\"q1:\",q1)\n",
    "\n",
    "# Third quartile of the dataset\n",
    "q3 = data.quantile(0.75)\n",
    "print(\"q3:\",q3)\n",
    "# Interquartile Range\n",
    "print(\"IQR:\", q3-q1)"
   ]
  }
 ],
 "metadata": {
  "kernelspec": {
   "display_name": "Python 3.10.6 64-bit",
   "language": "python",
   "name": "python3"
  },
  "language_info": {
   "codemirror_mode": {
    "name": "ipython",
    "version": 3
   },
   "file_extension": ".py",
   "mimetype": "text/x-python",
   "name": "python",
   "nbconvert_exporter": "python",
   "pygments_lexer": "ipython3",
   "version": "3.10.6"
  },
  "orig_nbformat": 4,
  "vscode": {
   "interpreter": {
    "hash": "9ab66fe7944814080eba699b0827d98586b0c1b75b0dd08322b4876e0a85e33c"
   }
  }
 },
 "nbformat": 4,
 "nbformat_minor": 2
}
