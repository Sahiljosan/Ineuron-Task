{
 "cells": [
  {
   "cell_type": "markdown",
   "id": "3a8ecd34",
   "metadata": {},
   "source": [
    "Task 1\n",
    "\n",
    "s=\"this is My First Python programming class and i am learNING python string and its function\"\n",
    "\n",
    "1. Try to extract data from index one to index 300 with a jump of 3\n",
    "2. Try to reverse a string without using reverse function\n",
    "3. Try to split a string after conversion of entire string in upper case\n",
    "4. Try to convert the whole string into lower case\n",
    "5. Try to capitalize the whole string\n",
    "6. Write a difference between isalnum() and isalpha()\n",
    "7. Try to give an example of expand tab\n",
    "8. Give an example of strip, lstrip and rstrip\n",
    "9. Replace a string character by another character by taking your own example\n",
    "10. Try to give a defination of string center functionwith an example\n",
    "11. Write your own definition of copiler and interpretor without copy paste from internet in your own language.\n",
    "12. Python is a interpreted of compiled language give a clear ans with your understanding\n",
    "13. Try to write a usecase of python with your understanding."
   ]
  },
  {
   "cell_type": "code",
   "execution_count": 1,
   "id": "06f1eda0",
   "metadata": {},
   "outputs": [],
   "source": [
    "# Q1 Ans\n",
    "s = \"this is My First Python programming class and i am learNING python string and its function\""
   ]
  },
  {
   "cell_type": "code",
   "execution_count": 3,
   "id": "7e2e174f",
   "metadata": {},
   "outputs": [
    {
     "data": {
      "text/plain": [
       "'tssyityopgmncsa alrNph rgni ni'"
      ]
     },
     "execution_count": 3,
     "metadata": {},
     "output_type": "execute_result"
    }
   ],
   "source": [
    "s[0:300:3]"
   ]
  },
  {
   "cell_type": "code",
   "execution_count": 9,
   "id": "786a401d",
   "metadata": {},
   "outputs": [
    {
     "data": {
      "text/plain": [
       "'noitcnuf sti dna gnirts nohtyp GNINrael ma i dna ssalc gnimmargorp nohtyP tsriF yM si siht'"
      ]
     },
     "execution_count": 9,
     "metadata": {},
     "output_type": "execute_result"
    }
   ],
   "source": [
    "# Q2 ans\n",
    "s[::-1]"
   ]
  },
  {
   "cell_type": "code",
   "execution_count": 15,
   "id": "14698131",
   "metadata": {},
   "outputs": [
    {
     "data": {
      "text/plain": [
       "['THIS',\n",
       " 'IS',\n",
       " 'MY',\n",
       " 'FIRST',\n",
       " 'PYTHON',\n",
       " 'PROGRAMMING',\n",
       " 'CLASS',\n",
       " 'AND',\n",
       " 'I',\n",
       " 'AM',\n",
       " 'LEARNING',\n",
       " 'PYTHON',\n",
       " 'STRING',\n",
       " 'AND',\n",
       " 'ITS',\n",
       " 'FUNCTION']"
      ]
     },
     "execution_count": 15,
     "metadata": {},
     "output_type": "execute_result"
    }
   ],
   "source": [
    "# Q3 ans\n",
    "s1 = s.upper()\n",
    "s1.split(\" \")"
   ]
  },
  {
   "cell_type": "code",
   "execution_count": 17,
   "id": "0227a83d",
   "metadata": {},
   "outputs": [
    {
     "data": {
      "text/plain": [
       "'this is my first python programming class and i am learning python string and its function'"
      ]
     },
     "execution_count": 17,
     "metadata": {},
     "output_type": "execute_result"
    }
   ],
   "source": [
    "# Q4 ans\n",
    "s.lower()"
   ]
  },
  {
   "cell_type": "code",
   "execution_count": 23,
   "id": "386309b6",
   "metadata": {},
   "outputs": [
    {
     "data": {
      "text/plain": [
       "'This is my first python programming class and i am learning python string and its function'"
      ]
     },
     "execution_count": 23,
     "metadata": {},
     "output_type": "execute_result"
    }
   ],
   "source": [
    "# Q5 ans\n",
    "s.capitalize()"
   ]
  },
  {
   "cell_type": "code",
   "execution_count": 25,
   "id": "36f88674",
   "metadata": {},
   "outputs": [
    {
     "data": {
      "text/plain": [
       "True"
      ]
     },
     "execution_count": 25,
     "metadata": {},
     "output_type": "execute_result"
    }
   ],
   "source": [
    "# Q6 ans\n",
    "# isalnum is going to work with all kind of alphanumeric character and it is going to give you true\n",
    "# for ex:\n",
    "s1 = \"sudha2142\"\n",
    "s1.isalnum()"
   ]
  },
  {
   "cell_type": "code",
   "execution_count": 29,
   "id": "44d6ca0e",
   "metadata": {},
   "outputs": [
    {
     "data": {
      "text/plain": [
       "False"
      ]
     },
     "execution_count": 29,
     "metadata": {},
     "output_type": "execute_result"
    }
   ],
   "source": [
    "# isalpa is going to work with only alphabetical character and gives true only if all the character are alphabets (string),\n",
    "# if the string has numbers also then it will show false.\n",
    "# for ex\n",
    "s2 = \"sudha2142\"\n",
    "s2.isalpha()"
   ]
  },
  {
   "cell_type": "code",
   "execution_count": 30,
   "id": "e95bc2bf",
   "metadata": {},
   "outputs": [
    {
     "data": {
      "text/plain": [
       "'xyzu    12451   absd'"
      ]
     },
     "execution_count": 30,
     "metadata": {},
     "output_type": "execute_result"
    }
   ],
   "source": [
    "# Q7 ans\n",
    "s = \"xyzu\\t12451\\tabsd\"\n",
    "s.expandtabs()"
   ]
  },
  {
   "cell_type": "code",
   "execution_count": 31,
   "id": "3785bf3c",
   "metadata": {},
   "outputs": [
    {
     "data": {
      "text/plain": [
       "'      sahil'"
      ]
     },
     "execution_count": 31,
     "metadata": {},
     "output_type": "execute_result"
    }
   ],
   "source": [
    "# Q8 ans\n",
    "temp = \"      sahil          \"\n",
    "\n",
    "temp.strip()\n",
    "\n",
    "temp.lstrip()\n",
    "\n",
    "temp.rstrip()\n"
   ]
  },
  {
   "cell_type": "code",
   "execution_count": 32,
   "id": "5a228cdf",
   "metadata": {},
   "outputs": [
    {
     "data": {
      "text/plain": [
       "'sahil'"
      ]
     },
     "execution_count": 32,
     "metadata": {},
     "output_type": "execute_result"
    }
   ],
   "source": [
    "temp.strip()"
   ]
  },
  {
   "cell_type": "code",
   "execution_count": 33,
   "id": "7fdcef31",
   "metadata": {},
   "outputs": [
    {
     "data": {
      "text/plain": [
       "'sahil          '"
      ]
     },
     "execution_count": 33,
     "metadata": {},
     "output_type": "execute_result"
    }
   ],
   "source": [
    "temp.lstrip()"
   ]
  },
  {
   "cell_type": "code",
   "execution_count": 34,
   "id": "ca8ca6b7",
   "metadata": {},
   "outputs": [
    {
     "data": {
      "text/plain": [
       "'      sahil'"
      ]
     },
     "execution_count": 34,
     "metadata": {},
     "output_type": "execute_result"
    }
   ],
   "source": [
    "temp.rstrip()"
   ]
  },
  {
   "cell_type": "code",
   "execution_count": 35,
   "id": "35c8fa47",
   "metadata": {},
   "outputs": [
    {
     "data": {
      "text/plain": [
       "'sahil singh'"
      ]
     },
     "execution_count": 35,
     "metadata": {},
     "output_type": "execute_result"
    }
   ],
   "source": [
    "# Q9 ans\n",
    "s = \"sahil josan\"\n",
    "s.replace(\"josan\", \"singh\")"
   ]
  },
  {
   "cell_type": "code",
   "execution_count": 37,
   "id": "7151a2fc",
   "metadata": {},
   "outputs": [
    {
     "data": {
      "text/plain": [
       "'*******coder********'"
      ]
     },
     "execution_count": 37,
     "metadata": {},
     "output_type": "execute_result"
    }
   ],
   "source": [
    "# Q10 ans\n",
    "n = \"coder\"\n",
    "n.center(20,\"*\")"
   ]
  },
  {
   "cell_type": "code",
   "execution_count": 1,
   "id": "512f6f48",
   "metadata": {},
   "outputs": [],
   "source": [
    "# Q11 ans\n",
    "# Q : python is compiler or inteprettor?\n",
    "# Ans: \n",
    "# In general it is belived that python is a interpreter language but in reality neighter it is a compiler language nor a intepreter\n",
    "# t works in two layer first the .py file is compliled to an intermediate code of .pyc then the .pyc file is directly interprets."
   ]
  },
  {
   "cell_type": "code",
   "execution_count": 2,
   "id": "80d9c2a9",
   "metadata": {},
   "outputs": [],
   "source": [
    "# Q12 Python is a interpreted of compiled language give a clear ans with your understanding .\n",
    "# Ans \n",
    "# - python is compiled as well as interpreted language. in python to convert the high level language in to low level language\n",
    "#   the terms compiler cames to the picture\n",
    "# - In python when we execute the program 1st the compiler converts the source code in to byte code and then interpreter converts\n",
    "#   the byte code in to machine level language.\n",
    "\n",
    "# Source code ----> compiler ----> byte code -----> interpreter -----> machine code.\n",
    "#                                                   (Virtual Machine (PVM) )\n",
    "\n",
    "# - in python the process of execution is bit different because to make the program platform independence (we can write code once\n",
    "#   and can run in different platform). As the machine changes the cpu architecture also changes so if we are writting some code.\n",
    "# in one machine it may not be executed in other so to resolve this problem virtual machines converts the byte code in to machine \n",
    "# code and make it platform independent.\n"
   ]
  },
  {
   "cell_type": "code",
   "execution_count": null,
   "id": "9f6e4945",
   "metadata": {},
   "outputs": [],
   "source": [
    "# Q13 Try to write a usecase of python with your understanding\n",
    "# Ans : \n",
    "# python is commonly used for :\n",
    "# - Developing websites and softwares\n",
    "# - Task automation\n",
    "# - Data Analysis\n",
    "# - data visualization\n",
    "# - Data science\n",
    "# - Artificial Intelligence\n",
    "# - Web scrapping\n",
    "# - Web application development using Django, Pyramid,and Flask framework\n",
    "# - Game development\n",
    "# - Internet of things\n",
    "# - Desktop GUI\n",
    "# - Enterprise applications.\n",
    "# - Scientific Computing using Numpy and Pandas.\n",
    "# - Desktop Application using TK library.\n",
    "\n",
    "# - Face Detection\n",
    "# - Vehicle number plate detection\n",
    "# - Stock Exchange trading apps that have AI for trading analysis.\n",
    "# - Phone keyboard\n",
    "# - Snapchat's Bitmoji predictor\n",
    "# - Google Map\n",
    "# - Airlines ticket price prediction\n",
    "\n",
    "# - System Programming\n",
    "# - GUI Interface \n",
    "# - Image processing\n",
    "# - Robotics\n",
    "# - CAD Application\n"
   ]
  }
 ],
 "metadata": {
  "kernelspec": {
   "display_name": "Python 3 (ipykernel)",
   "language": "python",
   "name": "python3"
  },
  "language_info": {
   "codemirror_mode": {
    "name": "ipython",
    "version": 3
   },
   "file_extension": ".py",
   "mimetype": "text/x-python",
   "name": "python",
   "nbconvert_exporter": "python",
   "pygments_lexer": "ipython3",
   "version": "3.9.12"
  }
 },
 "nbformat": 4,
 "nbformat_minor": 5
}
