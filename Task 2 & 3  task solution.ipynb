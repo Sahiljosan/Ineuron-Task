{
 "cells": [
  {
   "cell_type": "code",
   "execution_count": 2,
   "id": "74d7e304",
   "metadata": {},
   "outputs": [],
   "source": [
    "#  Task 2 \n",
    "\n",
    "l = [3,4,5,6,7 , [23,456,67,8,78,78] , [345,56,87,8,98,9] , (234,6657,6) , {\"key1\" :\"sudh\" , 234:[23,45,656]}]\n",
    "# 1 . Try to reverse a list \n",
    "# 2.  Try to access 234 out of this list \n",
    "# 3 . try to access 456 \n",
    "# 4 . Try to extract only a list collection form list l \n",
    "# 5 . Try to extract \"sudh\"\n",
    "# 6 . Try to list all the key in dict element avaible in list \n",
    "# 7 . Try to extract all the value element form dict available in list\n"
   ]
  },
  {
   "cell_type": "code",
   "execution_count": 4,
   "id": "c746e186",
   "metadata": {},
   "outputs": [
    {
     "data": {
      "text/plain": [
       "[3,\n",
       " 4,\n",
       " 5,\n",
       " 6,\n",
       " 7,\n",
       " [23, 456, 67, 8, 78, 78],\n",
       " [345, 56, 87, 8, 98, 9],\n",
       " (234, 6657, 6),\n",
       " {'key1': 'sudh', 234: [23, 45, 656]}]"
      ]
     },
     "execution_count": 4,
     "metadata": {},
     "output_type": "execute_result"
    }
   ],
   "source": [
    "l"
   ]
  },
  {
   "cell_type": "code",
   "execution_count": 3,
   "id": "25aa3baa",
   "metadata": {},
   "outputs": [
    {
     "data": {
      "text/plain": [
       "[{'key1': 'sudh', 234: [23, 45, 656]},\n",
       " (234, 6657, 6),\n",
       " [345, 56, 87, 8, 98, 9],\n",
       " [23, 456, 67, 8, 78, 78],\n",
       " 7,\n",
       " 6,\n",
       " 5,\n",
       " 4,\n",
       " 3]"
      ]
     },
     "execution_count": 3,
     "metadata": {},
     "output_type": "execute_result"
    }
   ],
   "source": [
    "# Q1 \n",
    "l[::-1]"
   ]
  },
  {
   "cell_type": "code",
   "execution_count": 10,
   "id": "1d8530c9",
   "metadata": {},
   "outputs": [],
   "source": [
    "l.reverse()"
   ]
  },
  {
   "cell_type": "code",
   "execution_count": 11,
   "id": "515506ea",
   "metadata": {},
   "outputs": [
    {
     "data": {
      "text/plain": [
       "[3,\n",
       " 4,\n",
       " 5,\n",
       " 6,\n",
       " 7,\n",
       " [23, 456, 67, 8, 78, 78],\n",
       " [345, 56, 87, 8, 98, 9],\n",
       " (234, 6657, 6),\n",
       " {'key1': 'sudh', 234: [23, 45, 656]}]"
      ]
     },
     "execution_count": 11,
     "metadata": {},
     "output_type": "execute_result"
    }
   ],
   "source": [
    "l"
   ]
  },
  {
   "cell_type": "code",
   "execution_count": 12,
   "id": "73dd7dec",
   "metadata": {},
   "outputs": [
    {
     "data": {
      "text/plain": [
       "[3,\n",
       " 4,\n",
       " 5,\n",
       " 6,\n",
       " 7,\n",
       " [23, 456, 67, 8, 78, 78],\n",
       " [345, 56, 87, 8, 98, 9],\n",
       " (234, 6657, 6),\n",
       " {'key1': 'sudh', 234: [23, 45, 656]}]"
      ]
     },
     "execution_count": 12,
     "metadata": {},
     "output_type": "execute_result"
    }
   ],
   "source": [
    "# Q2\n",
    "l"
   ]
  },
  {
   "cell_type": "code",
   "execution_count": 18,
   "id": "af3e334f",
   "metadata": {},
   "outputs": [
    {
     "data": {
      "text/plain": [
       "234"
      ]
     },
     "execution_count": 18,
     "metadata": {},
     "output_type": "execute_result"
    }
   ],
   "source": [
    "l[7][0]"
   ]
  },
  {
   "cell_type": "code",
   "execution_count": 29,
   "id": "680b75ee",
   "metadata": {},
   "outputs": [
    {
     "data": {
      "text/plain": [
       "234"
      ]
     },
     "execution_count": 29,
     "metadata": {},
     "output_type": "execute_result"
    }
   ],
   "source": [
    "list(l[8].keys())[1]"
   ]
  },
  {
   "cell_type": "code",
   "execution_count": 30,
   "id": "7c86d6a8",
   "metadata": {},
   "outputs": [
    {
     "data": {
      "text/plain": [
       "[3,\n",
       " 4,\n",
       " 5,\n",
       " 6,\n",
       " 7,\n",
       " [23, 456, 67, 8, 78, 78],\n",
       " [345, 56, 87, 8, 98, 9],\n",
       " (234, 6657, 6),\n",
       " {'key1': 'sudh', 234: [23, 45, 656]}]"
      ]
     },
     "execution_count": 30,
     "metadata": {},
     "output_type": "execute_result"
    }
   ],
   "source": [
    "# Q3 . try to access 456\n",
    "l"
   ]
  },
  {
   "cell_type": "code",
   "execution_count": 32,
   "id": "73e411d1",
   "metadata": {},
   "outputs": [
    {
     "data": {
      "text/plain": [
       "456"
      ]
     },
     "execution_count": 32,
     "metadata": {},
     "output_type": "execute_result"
    }
   ],
   "source": [
    "l[5][1]"
   ]
  },
  {
   "cell_type": "code",
   "execution_count": 33,
   "id": "b942fc14",
   "metadata": {},
   "outputs": [
    {
     "data": {
      "text/plain": [
       "[3,\n",
       " 4,\n",
       " 5,\n",
       " 6,\n",
       " 7,\n",
       " [23, 456, 67, 8, 78, 78],\n",
       " [345, 56, 87, 8, 98, 9],\n",
       " (234, 6657, 6),\n",
       " {'key1': 'sudh', 234: [23, 45, 656]}]"
      ]
     },
     "execution_count": 33,
     "metadata": {},
     "output_type": "execute_result"
    }
   ],
   "source": [
    "# Q4 . Try to extract only a list collection form list l\n",
    "l"
   ]
  },
  {
   "cell_type": "code",
   "execution_count": 36,
   "id": "66b0c7e4",
   "metadata": {},
   "outputs": [
    {
     "data": {
      "text/plain": [
       "[[23, 456, 67, 8, 78, 78], [345, 56, 87, 8, 98, 9]]"
      ]
     },
     "execution_count": 36,
     "metadata": {},
     "output_type": "execute_result"
    }
   ],
   "source": [
    "l[5:7]"
   ]
  },
  {
   "cell_type": "code",
   "execution_count": 37,
   "id": "9585467e",
   "metadata": {},
   "outputs": [
    {
     "data": {
      "text/plain": [
       "[3,\n",
       " 4,\n",
       " 5,\n",
       " 6,\n",
       " 7,\n",
       " [23, 456, 67, 8, 78, 78],\n",
       " [345, 56, 87, 8, 98, 9],\n",
       " (234, 6657, 6),\n",
       " {'key1': 'sudh', 234: [23, 45, 656]}]"
      ]
     },
     "execution_count": 37,
     "metadata": {},
     "output_type": "execute_result"
    }
   ],
   "source": [
    "# Q5 . Try to extract \"sudh\"\n",
    "l"
   ]
  },
  {
   "cell_type": "code",
   "execution_count": 41,
   "id": "aa5b52a6",
   "metadata": {},
   "outputs": [
    {
     "data": {
      "text/plain": [
       "'sudh'"
      ]
     },
     "execution_count": 41,
     "metadata": {},
     "output_type": "execute_result"
    }
   ],
   "source": [
    "l[8][\"key1\"]"
   ]
  },
  {
   "cell_type": "code",
   "execution_count": 42,
   "id": "3e82c628",
   "metadata": {},
   "outputs": [
    {
     "data": {
      "text/plain": [
       "[3,\n",
       " 4,\n",
       " 5,\n",
       " 6,\n",
       " 7,\n",
       " [23, 456, 67, 8, 78, 78],\n",
       " [345, 56, 87, 8, 98, 9],\n",
       " (234, 6657, 6),\n",
       " {'key1': 'sudh', 234: [23, 45, 656]}]"
      ]
     },
     "execution_count": 42,
     "metadata": {},
     "output_type": "execute_result"
    }
   ],
   "source": [
    "# Q6 . Try to list all the key in dict element avaible in list.\n",
    "l"
   ]
  },
  {
   "cell_type": "code",
   "execution_count": 45,
   "id": "e467a93c",
   "metadata": {},
   "outputs": [
    {
     "data": {
      "text/plain": [
       "['key1', 234]"
      ]
     },
     "execution_count": 45,
     "metadata": {},
     "output_type": "execute_result"
    }
   ],
   "source": [
    "list(l[8].keys())"
   ]
  },
  {
   "cell_type": "code",
   "execution_count": 46,
   "id": "68d10e74",
   "metadata": {},
   "outputs": [
    {
     "data": {
      "text/plain": [
       "[3,\n",
       " 4,\n",
       " 5,\n",
       " 6,\n",
       " 7,\n",
       " [23, 456, 67, 8, 78, 78],\n",
       " [345, 56, 87, 8, 98, 9],\n",
       " (234, 6657, 6),\n",
       " {'key1': 'sudh', 234: [23, 45, 656]}]"
      ]
     },
     "execution_count": 46,
     "metadata": {},
     "output_type": "execute_result"
    }
   ],
   "source": [
    "# Q7 . Try to extract all the value element form dict available in list\n",
    "l"
   ]
  },
  {
   "cell_type": "code",
   "execution_count": 49,
   "id": "18cb4fe4",
   "metadata": {},
   "outputs": [
    {
     "data": {
      "text/plain": [
       "['sudh', [23, 45, 656]]"
      ]
     },
     "execution_count": 49,
     "metadata": {},
     "output_type": "execute_result"
    }
   ],
   "source": [
    "list(l[8].values())"
   ]
  },
  {
   "cell_type": "code",
   "execution_count": 36,
   "id": "e0ad5ef8",
   "metadata": {},
   "outputs": [],
   "source": [
    "# Task 3.\n",
    "\n",
    "# q1 :\n",
    "# ineruon \n",
    "# ineruon ineruon \n",
    "# ineruon ineruon ineruon\n",
    "# ineruon ineruon ineruon ineruon\n",
    "\n",
    "# q2 - \n",
    "\n",
    "#              ineruon\n",
    "#       ineruon       ineruon\n",
    "# ineruon\t\tineruon \tineruon\n",
    "#   \tineruon\t\t  ineruon\n",
    "# \t\t      ineruon\n",
    "\n",
    "l = [[1,2,3,4] , (2,3,4,5,6) , (3,4,5,6,7) , set([23,4,5,45,4,4,5,45,45,4,5]) , {'k1' :\"sudh\" , \"k2\" : \"ineuron\",\"k3\":\n",
    "            \"kumar\" , 3:6 , 7:8} , [\"ineuron\" , \"data science \"]]\n",
    "\n",
    "# q3 : Try to extract all the list entity \n",
    "# q4 : Try to extract all the dict enteties\n",
    "# q5 : Try to extract all the tuples entities\n",
    "# q6 : Try to extract all the numerical data it may b a part of dict key and values \n",
    "# q7 : Try to give summation of all the numeric data \n",
    "# q8 : Try to filter out all the odd values out all numeric data which is a part of a list \n",
    "# q9 : Try to extract \"ineruon\" out of this data\n",
    "# q10 : Try to find out a number of occurances of all the data \n",
    "# q11 : Try to find out number of keys in dict element\n",
    "# q12 : Try to filter out all the string data \n",
    "# q13 : Try to Find  out alphanum in data\n",
    "# q14 : Try to find out multiplication of all numeric value in the individual collection inside dataset\n",
    "# q15 : Try to unwrape all the collection inside collection and create a flat list.\n",
    "\n"
   ]
  },
  {
   "cell_type": "code",
   "execution_count": 37,
   "id": "0d1fef06",
   "metadata": {},
   "outputs": [
    {
     "name": "stdout",
     "output_type": "stream",
     "text": [
      "Enter the number : 5\n",
      "\n",
      "ineuron \n",
      "ineuron ineuron \n",
      "ineuron ineuron ineuron \n",
      "ineuron ineuron ineuron ineuron \n",
      "ineuron ineuron ineuron ineuron ineuron \n"
     ]
    }
   ],
   "source": [
    "# Q1\n",
    "n = int(input(\"Enter the number : \"))\n",
    "print()\n",
    "for i in range(n):\n",
    "    print(\"ineuron \"*(i+1))"
   ]
  },
  {
   "cell_type": "code",
   "execution_count": 38,
   "id": "27d11c17",
   "metadata": {},
   "outputs": [
    {
     "name": "stdout",
     "output_type": "stream",
     "text": [
      "               ineuron       \n",
      "        ineuron       ineuron       \n",
      " ineuron       ineuron       ineuron       \n",
      "        ineuron       ineuron       \n",
      "               ineuron       \n"
     ]
    }
   ],
   "source": [
    "# Q2 \n",
    "a = 1\n",
    "b = 3\n",
    "rows = b-a+1\n",
    "for i in range(rows):\n",
    "    print(\"       \"*(rows-i-1), \"ineuron       \"*(i+1))\n",
    "for j in range(rows-2,-1,-1):\n",
    "    print(\"       \"*(rows-j-1), \"ineuron       \"*(j+1))"
   ]
  },
  {
   "cell_type": "code",
   "execution_count": 39,
   "id": "ddf249ed",
   "metadata": {},
   "outputs": [],
   "source": [
    "# Q2 : Another way to make this pattern, the simpler way"
   ]
  },
  {
   "cell_type": "code",
   "execution_count": 40,
   "id": "1aa0c871",
   "metadata": {},
   "outputs": [
    {
     "name": "stdout",
     "output_type": "stream",
     "text": [
      "                                                  \n",
      "                  ineuron                         \n",
      "            ineuron      ineuron                  \n",
      "     ineuron      ineuron      ineuron            \n",
      "            ineuron      ineuron                  \n",
      "                  ineuron                         \n"
     ]
    }
   ],
   "source": [
    "for i in range(6):\n",
    "    if i <= 3:\n",
    "        n = i\n",
    "    else:\n",
    "        n = 6 -i\n",
    "    print((\"ineuron      \"*n).center(50,' '))"
   ]
  },
  {
   "cell_type": "code",
   "execution_count": 41,
   "id": "aebe47f8",
   "metadata": {},
   "outputs": [
    {
     "data": {
      "text/plain": [
       "[[1, 2, 3, 4],\n",
       " (2, 3, 4, 5, 6),\n",
       " (3, 4, 5, 6, 7),\n",
       " {4, 5, 23, 45},\n",
       " {'k1': 'sudh', 'k2': 'ineuron', 'k3': 'kumar', 3: 6, 7: 8},\n",
       " ['ineuron', 'data science ']]"
      ]
     },
     "execution_count": 41,
     "metadata": {},
     "output_type": "execute_result"
    }
   ],
   "source": [
    "l"
   ]
  },
  {
   "cell_type": "code",
   "execution_count": 42,
   "id": "1324817f",
   "metadata": {},
   "outputs": [
    {
     "name": "stdout",
     "output_type": "stream",
     "text": [
      "[1, 2, 3, 4]\n",
      "['ineuron', 'data science ']\n"
     ]
    }
   ],
   "source": [
    "# Q3 : Try to extract all the list entity \n",
    "\n",
    "for i in l:\n",
    "    if type(i) == list:\n",
    "        print(i)"
   ]
  },
  {
   "cell_type": "code",
   "execution_count": 43,
   "id": "00f680a2",
   "metadata": {},
   "outputs": [
    {
     "name": "stdout",
     "output_type": "stream",
     "text": [
      "{'k1': 'sudh', 'k2': 'ineuron', 'k3': 'kumar', 3: 6, 7: 8}\n"
     ]
    }
   ],
   "source": [
    "# Q4 : Try to extract all the dict enteties\n",
    "\n",
    "for i in l:\n",
    "    if type(i) == dict:\n",
    "        print(i)"
   ]
  },
  {
   "cell_type": "code",
   "execution_count": 44,
   "id": "d5fc6015",
   "metadata": {},
   "outputs": [
    {
     "name": "stdout",
     "output_type": "stream",
     "text": [
      "(2, 3, 4, 5, 6)\n",
      "(3, 4, 5, 6, 7)\n"
     ]
    }
   ],
   "source": [
    "# Q5 : Try to extract all the tuples entities\n",
    "\n",
    "for i in l :\n",
    "    if type(i) == tuple:\n",
    "        print(i)"
   ]
  },
  {
   "cell_type": "code",
   "execution_count": 45,
   "id": "eccb526f",
   "metadata": {},
   "outputs": [
    {
     "data": {
      "text/plain": [
       "[[1, 2, 3, 4],\n",
       " (2, 3, 4, 5, 6),\n",
       " (3, 4, 5, 6, 7),\n",
       " {4, 5, 23, 45},\n",
       " {'k1': 'sudh', 'k2': 'ineuron', 'k3': 'kumar', 3: 6, 7: 8},\n",
       " ['ineuron', 'data science ']]"
      ]
     },
     "execution_count": 45,
     "metadata": {},
     "output_type": "execute_result"
    }
   ],
   "source": [
    "l"
   ]
  },
  {
   "cell_type": "code",
   "execution_count": 49,
   "id": "c0940312",
   "metadata": {},
   "outputs": [
    {
     "name": "stdout",
     "output_type": "stream",
     "text": [
      "[1, 2, 3, 4, 2, 3, 4, 5, 6, 3, 4, 5, 6, 7, 45, 4, 5, 23, 3, 6, 7, 8]\n"
     ]
    }
   ],
   "source": [
    "# Q6 : Try to extract all the numerical data it may b a part of dict key and values\n",
    "\n",
    "\n",
    "l2 = []\n",
    "for i in l :\n",
    "    if type(i) == list or type(i) == tuple or type(i)==set:\n",
    "        for j in i:\n",
    "            if type(j) == int:\n",
    "                #print(j)\n",
    "                l2.append(j)\n",
    "    if type(i) == dict:\n",
    "        for k,v in i.items():\n",
    "            if type(k) == int or type(v) == int:\n",
    "                l2.append(k)\n",
    "                l2.append(v)\n",
    "                #print(k)\n",
    "                #print(v)\n",
    "print(l2)"
   ]
  },
  {
   "cell_type": "code",
   "execution_count": 51,
   "id": "dfabea3d",
   "metadata": {},
   "outputs": [
    {
     "data": {
      "text/plain": [
       "[1, 2, 3, 4, 2, 3, 4, 5, 6, 3, 4, 5, 6, 7, 45, 4, 5, 23, 3, 6, 7, 8]"
      ]
     },
     "execution_count": 51,
     "metadata": {},
     "output_type": "execute_result"
    }
   ],
   "source": [
    "l2"
   ]
  },
  {
   "cell_type": "code",
   "execution_count": 52,
   "id": "ea88628d",
   "metadata": {},
   "outputs": [
    {
     "data": {
      "text/plain": [
       "156"
      ]
     },
     "execution_count": 52,
     "metadata": {},
     "output_type": "execute_result"
    }
   ],
   "source": [
    "# Q7 : Try to give summation of all the numeric data \n",
    "\n",
    "sum(l2)"
   ]
  },
  {
   "cell_type": "code",
   "execution_count": 62,
   "id": "af19a8f0",
   "metadata": {},
   "outputs": [
    {
     "name": "stdout",
     "output_type": "stream",
     "text": [
      "list of Odd no  [1, 3, 3, 5, 3, 5, 7, 45, 5, 23, 3, 7]\n",
      "list of Even no [2, 4, 2, 4, 6, 4, 6, 4, 6, 8]\n"
     ]
    }
   ],
   "source": [
    "# Q8 : Try to filter out all the odd values out all numeric data which is a part of a list \n",
    "\n",
    "odd_list = []\n",
    "even_list = []\n",
    "for i in l2:\n",
    "    if i%2 !=0:\n",
    "        odd_list.append(i)\n",
    "    else:\n",
    "        even_list.append(i)\n",
    "print(\"list of Odd no \",odd_list)\n",
    "print(\"list of Even no\",even_list)"
   ]
  },
  {
   "cell_type": "code",
   "execution_count": 63,
   "id": "be779751",
   "metadata": {},
   "outputs": [
    {
     "name": "stdout",
     "output_type": "stream",
     "text": [
      "1\n",
      "3\n",
      "3\n",
      "5\n",
      "3\n",
      "5\n",
      "7\n",
      "45\n",
      "5\n",
      "23\n",
      "3\n",
      "7\n"
     ]
    }
   ],
   "source": [
    "# Q8 : Try to filter out all the odd values out all numeric data which is a part of a list  \n",
    "# Another way\n",
    "\n",
    "for i in l2:\n",
    "    if i % 2 ==0:\n",
    "        pass\n",
    "    else:\n",
    "        print(i)"
   ]
  },
  {
   "cell_type": "code",
   "execution_count": 9,
   "id": "72b44772",
   "metadata": {},
   "outputs": [],
   "source": [
    "l = [[1,2,3,4] , (2,3,4,5,6) , (3,4,5,6,7) , set([23,4,5,45,4,4,5,45,45,4,5]) , {'k1' :\"sudh\" , \"k2\" : \"ineuron\",\"k3\":\n",
    "            \"kumar\" , 3:6 , 7:8} , [\"ineuron\" , \"data science \"]]"
   ]
  },
  {
   "cell_type": "code",
   "execution_count": 19,
   "id": "8e6baad7",
   "metadata": {},
   "outputs": [
    {
     "name": "stdout",
     "output_type": "stream",
     "text": [
      "['ineuron', 'ineuron']\n"
     ]
    }
   ],
   "source": [
    "# Q9 : Try to extract \"ineruon\" out of this data\n",
    "\n",
    "str_list = []\n",
    "for i in l :\n",
    "    if type(i) == list or type(i) == tuple or type(i) == set:\n",
    "        for j in i:\n",
    "            if j == \"ineuron\":\n",
    "                str_list.append(j)\n",
    "                #print(j)\n",
    "    if type(i) == dict:\n",
    "        for k in i.values():\n",
    "            if k == \"ineuron\":\n",
    "                str_list.append(k)\n",
    "                #print(k)\n",
    "print(str_list)"
   ]
  },
  {
   "cell_type": "code",
   "execution_count": 48,
   "id": "f30ea7d9",
   "metadata": {},
   "outputs": [
    {
     "data": {
      "text/plain": [
       "[[1, 2, 3, 4],\n",
       " (2, 3, 4, 5, 6),\n",
       " (3, 4, 5, 6, 7),\n",
       " {4, 5, 23, 45},\n",
       " {'k1': 'sudh', 'k2': 'ineuron', 'k3': 'kumar', 3: 6, 7: 8},\n",
       " ['ineuron', 'data science ']]"
      ]
     },
     "execution_count": 48,
     "metadata": {},
     "output_type": "execute_result"
    }
   ],
   "source": [
    "l"
   ]
  },
  {
   "cell_type": "code",
   "execution_count": 65,
   "id": "329fc0e2",
   "metadata": {},
   "outputs": [
    {
     "name": "stdout",
     "output_type": "stream",
     "text": [
      "Extracted all data in single list \n",
      "\n",
      "[1, 2, 3, 4, 2, 3, 4, 5, 6, 3, 4, 5, 6, 7, 45, 4, 5, 23, 'k1', 'sudh', 'k2', 'ineuron', 'k3', 'kumar', 3, 6, 7, 8, 'ineuron', 'data science '] \n",
      "\n",
      "1 : 1\n",
      "2 : 2\n",
      "3 : 4\n",
      "4 : 4\n",
      "5 : 3\n",
      "6 : 3\n",
      "7 : 2\n",
      "k2 : 1\n",
      "ineuron : 2\n",
      "k3 : 1\n",
      "8 : 1\n",
      "45 : 1\n",
      "k1 : 1\n",
      "23 : 1\n",
      "kumar : 1\n",
      "data science  : 1\n",
      "sudh : 1\n"
     ]
    }
   ],
   "source": [
    "# Q10 : Try to find out a number of occurances of all the data \n",
    "\n",
    "l2 = []\n",
    "for i in l:\n",
    "    if type(i) == list or type(i) == tuple or type(i) == set:\n",
    "        for j in i:\n",
    "            if type(j) == int or type(j) == str:\n",
    "                l2.append(j)\n",
    "    if type(i) == dict:\n",
    "        for k,v in i.items():\n",
    "            if type(k) == int or type(k) == str or type(v) == int or type(v) == str :\n",
    "                l2.append(k)\n",
    "                l2.append(v)\n",
    "print(\"Extracted all data in single list\",\"\\n\")\n",
    "print(l2,\"\\n\")   # Extracted all data in one list.\n",
    "\n",
    "# Code to count the number of occurances of all data.\n",
    "s = set(l2)\n",
    "for i in s:\n",
    "    print(i,\":\",l2.count(i))\n",
    "\n"
   ]
  },
  {
   "cell_type": "code",
   "execution_count": 66,
   "id": "265184da",
   "metadata": {},
   "outputs": [
    {
     "data": {
      "text/plain": [
       "[[1, 2, 3, 4],\n",
       " (2, 3, 4, 5, 6),\n",
       " (3, 4, 5, 6, 7),\n",
       " {4, 5, 23, 45},\n",
       " {'k1': 'sudh', 'k2': 'ineuron', 'k3': 'kumar', 3: 6, 7: 8},\n",
       " ['ineuron', 'data science ']]"
      ]
     },
     "execution_count": 66,
     "metadata": {},
     "output_type": "execute_result"
    }
   ],
   "source": [
    "l"
   ]
  },
  {
   "cell_type": "code",
   "execution_count": 80,
   "id": "f719ce23",
   "metadata": {},
   "outputs": [
    {
     "name": "stdout",
     "output_type": "stream",
     "text": [
      "number of keys in given data is 5\n",
      "number of keys is - 5\n"
     ]
    }
   ],
   "source": [
    "# Q11 : Try to find out number of keys in dict element\n",
    "\n",
    "l2 = []  \n",
    "for i in l:\n",
    "    if type(i) == dict:\n",
    "        for k in i.keys():\n",
    "            l2.append(k)\n",
    "            \n",
    "print(\"number of keys in given data is\",len(l2))\n",
    "\n",
    "# Another way to do this\n",
    "\n",
    "for i in l:\n",
    "    if type(i) == dict:\n",
    "        print(\"number of keys is -\", len(list(i.keys())))"
   ]
  },
  {
   "cell_type": "code",
   "execution_count": 81,
   "id": "c41ba3f0",
   "metadata": {},
   "outputs": [
    {
     "data": {
      "text/plain": [
       "[[1, 2, 3, 4],\n",
       " (2, 3, 4, 5, 6),\n",
       " (3, 4, 5, 6, 7),\n",
       " {4, 5, 23, 45},\n",
       " {'k1': 'sudh', 'k2': 'ineuron', 'k3': 'kumar', 3: 6, 7: 8},\n",
       " ['ineuron', 'data science ']]"
      ]
     },
     "execution_count": 81,
     "metadata": {},
     "output_type": "execute_result"
    }
   ],
   "source": [
    "l"
   ]
  },
  {
   "cell_type": "code",
   "execution_count": 84,
   "id": "75828307",
   "metadata": {},
   "outputs": [
    {
     "name": "stdout",
     "output_type": "stream",
     "text": [
      "k1\n",
      "sudh\n",
      "k2\n",
      "ineuron\n",
      "k3\n",
      "kumar\n",
      "ineuron\n",
      "data science \n"
     ]
    }
   ],
   "source": [
    "# Q12 : Try to filter out all the string data \n",
    "\n",
    "for i in l:\n",
    "    if type(i) == list:\n",
    "        for j in i:\n",
    "            if type(j) == str:\n",
    "                 print(j)\n",
    "    if type(i) == dict:\n",
    "        for k in i.items():\n",
    "            for g in k:\n",
    "                if type(g) == str:\n",
    "                    print(g)"
   ]
  },
  {
   "cell_type": "code",
   "execution_count": 91,
   "id": "7ac5c1db",
   "metadata": {},
   "outputs": [
    {
     "data": {
      "text/plain": [
       "[[1, 2, 3, 4],\n",
       " (2, 3, 4, 5, 6),\n",
       " (3, 4, 5, 6, 7),\n",
       " {4, 5, 23, 45},\n",
       " {'k1': 'sudh', 'k2': 'ineuron', 'k3': 'kumar', 3: 6, 7: 8},\n",
       " ['ineuron', 'data science ']]"
      ]
     },
     "execution_count": 91,
     "metadata": {},
     "output_type": "execute_result"
    }
   ],
   "source": [
    "l"
   ]
  },
  {
   "cell_type": "code",
   "execution_count": 95,
   "id": "5fe5dc3a",
   "metadata": {},
   "outputs": [
    {
     "name": "stdout",
     "output_type": "stream",
     "text": [
      "k1\n",
      "sudh\n",
      "k2\n",
      "ineuron\n",
      "k3\n",
      "kumar\n",
      "ineuron\n"
     ]
    }
   ],
   "source": [
    "# Q13 : Try to Find  out alphanum in data\n",
    "\n",
    "# First extract all data in single list say l2\n",
    "l2 = []\n",
    "for i in l:\n",
    "    if type(i) == list or type(i) == tuple or type(i) == set:\n",
    "        for j in i:\n",
    "            if type(j) == int or type(j) == str:\n",
    "                l2.append(j)\n",
    "    if type(i) == dict:\n",
    "        for k,v in i.items():\n",
    "            if type(k) == int or type(k) == str or type(v) == int or type(v) == str :\n",
    "                l2.append(k)\n",
    "                l2.append(v)\n",
    "                \n",
    "# code to find out alphanum data                \n",
    "for i in l2:\n",
    "    if type(i) == str:\n",
    "        if i.isalnum():\n",
    "            print(i)"
   ]
  },
  {
   "cell_type": "code",
   "execution_count": 97,
   "id": "70c9ec82",
   "metadata": {},
   "outputs": [
    {
     "data": {
      "text/plain": [
       "[1,\n",
       " 2,\n",
       " 3,\n",
       " 4,\n",
       " 2,\n",
       " 3,\n",
       " 4,\n",
       " 5,\n",
       " 6,\n",
       " 3,\n",
       " 4,\n",
       " 5,\n",
       " 6,\n",
       " 7,\n",
       " 45,\n",
       " 4,\n",
       " 5,\n",
       " 23,\n",
       " 'k1',\n",
       " 'sudh',\n",
       " 'k2',\n",
       " 'ineuron',\n",
       " 'k3',\n",
       " 'kumar',\n",
       " 3,\n",
       " 6,\n",
       " 7,\n",
       " 8,\n",
       " 'ineuron',\n",
       " 'data science ']"
      ]
     },
     "execution_count": 97,
     "metadata": {},
     "output_type": "execute_result"
    }
   ],
   "source": [
    "l2"
   ]
  },
  {
   "cell_type": "code",
   "execution_count": 107,
   "id": "24fdf74a",
   "metadata": {},
   "outputs": [
    {
     "name": "stdout",
     "output_type": "stream",
     "text": [
      "list l3:  [1, 2, 3, 4, 2, 3, 4, 5, 6, 3, 4, 5, 6, 7, 45, 4, 5, 23, 3, 6, 7, 8] \n",
      "\n",
      "sum of data is : 156\n",
      "multiplication of l3 is  908605071360000\n"
     ]
    }
   ],
   "source": [
    "# Q14 : Try to find out multiplication of all numeric value \n",
    "\n",
    "l3 = []\n",
    "for i in l2:\n",
    "    if type(i) == int:\n",
    "        l3.append(i)\n",
    "print(\"list l3: \",l3,\"\\n\")\n",
    "print(\"sum of data is :\", sum(l3))\n",
    "\n",
    "# For multiplication\n",
    "j = 1\n",
    "for i in l3:\n",
    "    j = j*i\n",
    "print(\"multiplication of l3 is \",j)"
   ]
  },
  {
   "cell_type": "code",
   "execution_count": 129,
   "id": "44cdff57",
   "metadata": {},
   "outputs": [
    {
     "data": {
      "text/plain": [
       "[[1, 2, 3, 4],\n",
       " (2, 3, 4, 5, 6),\n",
       " (3, 4, 5, 6, 7),\n",
       " {4, 5, 23, 45},\n",
       " {'k1': 'sudh', 'k2': 'ineuron', 'k3': 'kumar', 3: 6, 7: 8},\n",
       " ['ineuron', 'data science ']]"
      ]
     },
     "execution_count": 129,
     "metadata": {},
     "output_type": "execute_result"
    }
   ],
   "source": [
    "l"
   ]
  },
  {
   "cell_type": "code",
   "execution_count": 145,
   "id": "59ead3ee",
   "metadata": {},
   "outputs": [],
   "source": [
    "# # Q14 : Try to find out multiplication of all numeric value in the individual collection inside dataset"
   ]
  },
  {
   "cell_type": "code",
   "execution_count": 165,
   "id": "3b71d8eb",
   "metadata": {},
   "outputs": [
    {
     "name": "stdout",
     "output_type": "stream",
     "text": [
      "24\n",
      "720\n",
      "2520\n",
      "20700\n",
      "1008\n",
      "1\n"
     ]
    }
   ],
   "source": [
    "\n",
    "for i in l:\n",
    "    m = 1\n",
    "    if type(i) == list or type(i) == tuple or type(i) == set:\n",
    "        for j in i:\n",
    "            if type(j) == int:\n",
    "                m = m * j\n",
    "        print(m)\n",
    "    if type(i) == dict:\n",
    "        for k in i.items():\n",
    "            for n in k:\n",
    "                if type(n) == int:\n",
    "                    m = m*n\n",
    "        print(m)\n",
    "                \n",
    "        "
   ]
  },
  {
   "cell_type": "code",
   "execution_count": null,
   "id": "8ef4b894",
   "metadata": {},
   "outputs": [],
   "source": [
    "# Q15 : Try to unwrape all the collection inside collection and create a flat list."
   ]
  },
  {
   "cell_type": "code",
   "execution_count": 167,
   "id": "9b10f093",
   "metadata": {},
   "outputs": [
    {
     "data": {
      "text/plain": [
       "[[1, 2, 3, 4],\n",
       " (2, 3, 4, 5, 6),\n",
       " (3, 4, 5, 6, 7),\n",
       " {4, 5, 23, 45},\n",
       " {'k1': 'sudh', 'k2': 'ineuron', 'k3': 'kumar', 3: 6, 7: 8},\n",
       " ['ineuron', 'data science ']]"
      ]
     },
     "execution_count": 167,
     "metadata": {},
     "output_type": "execute_result"
    }
   ],
   "source": [
    "l"
   ]
  },
  {
   "cell_type": "code",
   "execution_count": 169,
   "id": "c5fa7900",
   "metadata": {},
   "outputs": [
    {
     "name": "stdout",
     "output_type": "stream",
     "text": [
      "[1, 2, 3, 4, 2, 3, 4, 5, 6, 3, 4, 5, 6, 7, 45, 4, 5, 23, 'k1', 'sudh', 'k2', 'ineuron', 'k3', 'kumar', 3, 6, 7, 8]\n"
     ]
    }
   ],
   "source": [
    "l5 = []\n",
    "for i in l:\n",
    "    if type(i) == list or type(i) == tuple or type(i) == set:\n",
    "        for j in i:\n",
    "            if type(j) == int:\n",
    "                l5.append(j)\n",
    "    if type(i) == dict:\n",
    "        for k in i.items():\n",
    "            for g in k:\n",
    "                l5.append(g)\n",
    "print(l5)\n",
    "                "
   ]
  },
  {
   "cell_type": "code",
   "execution_count": null,
   "id": "09f1daba",
   "metadata": {},
   "outputs": [],
   "source": []
  }
 ],
 "metadata": {
  "kernelspec": {
   "display_name": "Python 3 (ipykernel)",
   "language": "python",
   "name": "python3"
  },
  "language_info": {
   "codemirror_mode": {
    "name": "ipython",
    "version": 3
   },
   "file_extension": ".py",
   "mimetype": "text/x-python",
   "name": "python",
   "nbconvert_exporter": "python",
   "pygments_lexer": "ipython3",
   "version": "3.9.12"
  }
 },
 "nbformat": 4,
 "nbformat_minor": 5
}
